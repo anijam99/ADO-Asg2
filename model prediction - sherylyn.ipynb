{
 "cells": [
  {
   "cell_type": "code",
   "execution_count": 1,
   "id": "86a9ebcc",
   "metadata": {},
   "outputs": [],
   "source": [
    "#pip install psycopg2\n",
    "import psycopg2\n",
    "import pandas as pd\n",
    "import seaborn as sns\n",
    "import matplotlib.pyplot as plt\n",
    "from sklearn.model_selection import train_test_split\n",
    "from sklearn.model_selection import cross_val_score\n",
    "from sklearn.model_selection import GridSearchCV\n",
    "from sklearn.ensemble import RandomForestClassifier\n",
    "from sklearn.metrics import accuracy_score\n",
    "from sklearn.metrics import confusion_matrix, classification_report"
   ]
  },
  {
   "cell_type": "markdown",
   "id": "5a43657c",
   "metadata": {},
   "source": [
    "# telecom"
   ]
  },
  {
   "cell_type": "code",
   "execution_count": 2,
   "id": "0e4f4513",
   "metadata": {},
   "outputs": [],
   "source": [
    "host = \"np-ado-asg2-jairzhou.postgres.database.azure.com\"\n",
    "port = 5432\n",
    "dbname = \"postgres\"\n",
    "username = \"admin1@np-ado-asg2-jairzhou\"\n",
    "pwd = \"jair_zhou1\"\n",
    "\n",
    "table = \"telecom\""
   ]
  },
  {
   "cell_type": "code",
   "execution_count": 3,
   "id": "499e53fd",
   "metadata": {},
   "outputs": [],
   "source": [
    "with psycopg2.connect(\"host='{}' port={} dbname='{}' user={} password={}\".format(host, port, dbname, username, pwd)) as conn:\n",
    "    sql = \"select * from {};\".format(table)\n",
    "    telecom = pd.read_sql_query(sql, conn)"
   ]
  },
  {
   "cell_type": "code",
   "execution_count": 4,
   "id": "8fcebc84",
   "metadata": {},
   "outputs": [
    {
     "name": "stdout",
     "output_type": "stream",
     "text": [
      "<class 'pandas.core.frame.DataFrame'>\n",
      "RangeIndex: 9760 entries, 0 to 9759\n",
      "Data columns (total 23 columns):\n",
      " #   Column                        Non-Null Count  Dtype              \n",
      "---  ------                        --------------  -----              \n",
      " 0   churn                         9760 non-null   object             \n",
      " 1   gender                        9760 non-null   object             \n",
      " 2   network                       9760 non-null   object             \n",
      " 3   available_4g                  9760 non-null   object             \n",
      " 4   service_type                  9760 non-null   object             \n",
      " 5   monthly_usage_rs              9760 non-null   int64              \n",
      " 6   relation_durattion            9760 non-null   object             \n",
      " 7   recommend_to_others           9760 non-null   object             \n",
      " 8   pleaseed_with_prices          9760 non-null   object             \n",
      " 9   source_of_attraction          9760 non-null   object             \n",
      " 10  reascon_of_contact_cc         9760 non-null   object             \n",
      " 11  contact_with_cust_care        9760 non-null   object             \n",
      " 12  prferred_communication        9760 non-null   object             \n",
      " 13  satisfy_with_call_rate        9760 non-null   object             \n",
      " 14  rate_of_cust_care_calling     9760 non-null   object             \n",
      " 15  happy_with_intrnet_quality    9760 non-null   object             \n",
      " 16  satisfy_with_voice_quality    9760 non-null   object             \n",
      " 17  satisfy_with_billing_process  9760 non-null   object             \n",
      " 18  satisfy_with_signal_strength  9760 non-null   object             \n",
      " 19  _airbyte_ab_id                9760 non-null   object             \n",
      " 20  _airbyte_emitted_at           9760 non-null   datetime64[ns, UTC]\n",
      " 21  _airbyte_normalized_at        9760 non-null   datetime64[ns, UTC]\n",
      " 22  _airbyte_telecom_hashid       9760 non-null   object             \n",
      "dtypes: datetime64[ns, UTC](2), int64(1), object(20)\n",
      "memory usage: 1.7+ MB\n"
     ]
    }
   ],
   "source": [
    "telecom.info()"
   ]
  },
  {
   "cell_type": "code",
   "execution_count": 5,
   "id": "4d7ccbb7",
   "metadata": {},
   "outputs": [
    {
     "data": {
      "text/html": [
       "<div>\n",
       "<style scoped>\n",
       "    .dataframe tbody tr th:only-of-type {\n",
       "        vertical-align: middle;\n",
       "    }\n",
       "\n",
       "    .dataframe tbody tr th {\n",
       "        vertical-align: top;\n",
       "    }\n",
       "\n",
       "    .dataframe thead th {\n",
       "        text-align: right;\n",
       "    }\n",
       "</style>\n",
       "<table border=\"1\" class=\"dataframe\">\n",
       "  <thead>\n",
       "    <tr style=\"text-align: right;\">\n",
       "      <th></th>\n",
       "      <th>churn</th>\n",
       "      <th>gender</th>\n",
       "      <th>network</th>\n",
       "      <th>available_4g</th>\n",
       "      <th>service_type</th>\n",
       "      <th>monthly_usage_rs</th>\n",
       "      <th>relation_durattion</th>\n",
       "      <th>recommend_to_others</th>\n",
       "      <th>pleaseed_with_prices</th>\n",
       "      <th>source_of_attraction</th>\n",
       "      <th>...</th>\n",
       "      <th>satisfy_with_call_rate</th>\n",
       "      <th>rate_of_cust_care_calling</th>\n",
       "      <th>happy_with_intrnet_quality</th>\n",
       "      <th>satisfy_with_voice_quality</th>\n",
       "      <th>satisfy_with_billing_process</th>\n",
       "      <th>satisfy_with_signal_strength</th>\n",
       "      <th>_airbyte_ab_id</th>\n",
       "      <th>_airbyte_emitted_at</th>\n",
       "      <th>_airbyte_normalized_at</th>\n",
       "      <th>_airbyte_telecom_hashid</th>\n",
       "    </tr>\n",
       "  </thead>\n",
       "  <tbody>\n",
       "    <tr>\n",
       "      <th>0</th>\n",
       "      <td>No</td>\n",
       "      <td>Female</td>\n",
       "      <td>Jazz / Warid</td>\n",
       "      <td>Yes</td>\n",
       "      <td>Pre Paid</td>\n",
       "      <td>800</td>\n",
       "      <td>More than one year</td>\n",
       "      <td>Yes</td>\n",
       "      <td>Yes</td>\n",
       "      <td>Advertisement</td>\n",
       "      <td>...</td>\n",
       "      <td>Yes</td>\n",
       "      <td>rarely</td>\n",
       "      <td>Yes</td>\n",
       "      <td>Yes</td>\n",
       "      <td>Yes</td>\n",
       "      <td>Yes</td>\n",
       "      <td>26b2c3fd-2048-44d3-ba07-02a0972c3c02</td>\n",
       "      <td>2023-01-24 10:08:55.358000+00:00</td>\n",
       "      <td>2023-01-24 10:11:05.674071+00:00</td>\n",
       "      <td>2e58d2285993f670d2f4276c1e3a08c2</td>\n",
       "    </tr>\n",
       "    <tr>\n",
       "      <th>1</th>\n",
       "      <td>No</td>\n",
       "      <td>Female</td>\n",
       "      <td>Jazz / Warid</td>\n",
       "      <td>Yes</td>\n",
       "      <td>Pre Paid</td>\n",
       "      <td>500</td>\n",
       "      <td>More than one year</td>\n",
       "      <td>No</td>\n",
       "      <td>No</td>\n",
       "      <td>Others</td>\n",
       "      <td>...</td>\n",
       "      <td>No</td>\n",
       "      <td>rarely</td>\n",
       "      <td>No</td>\n",
       "      <td>Yes</td>\n",
       "      <td>No</td>\n",
       "      <td>Yes</td>\n",
       "      <td>1386d019-090b-47b1-9791-8d5b4a3fc178</td>\n",
       "      <td>2023-01-24 10:08:55.358000+00:00</td>\n",
       "      <td>2023-01-24 10:11:05.674071+00:00</td>\n",
       "      <td>6918f4a6ee2aa7927571061343edb4d2</td>\n",
       "    </tr>\n",
       "    <tr>\n",
       "      <th>2</th>\n",
       "      <td>No</td>\n",
       "      <td>Male</td>\n",
       "      <td>Jazz / Warid</td>\n",
       "      <td>Yes</td>\n",
       "      <td>Pre Paid</td>\n",
       "      <td>500</td>\n",
       "      <td>More than one year</td>\n",
       "      <td>Yes</td>\n",
       "      <td>No</td>\n",
       "      <td>Advertisement</td>\n",
       "      <td>...</td>\n",
       "      <td>No</td>\n",
       "      <td>rarely</td>\n",
       "      <td>Yes</td>\n",
       "      <td>No</td>\n",
       "      <td>Yes</td>\n",
       "      <td>No</td>\n",
       "      <td>6af9e452-aefe-427c-bda5-78a34d96d17e</td>\n",
       "      <td>2023-01-24 10:08:55.358000+00:00</td>\n",
       "      <td>2023-01-24 10:11:05.674071+00:00</td>\n",
       "      <td>29eee146afff8ca4ba55608ee78f7cc3</td>\n",
       "    </tr>\n",
       "    <tr>\n",
       "      <th>3</th>\n",
       "      <td>No</td>\n",
       "      <td>Female</td>\n",
       "      <td>Jazz / Warid</td>\n",
       "      <td>Yes</td>\n",
       "      <td>Pre Paid</td>\n",
       "      <td>300</td>\n",
       "      <td>More than one year</td>\n",
       "      <td>Yes</td>\n",
       "      <td>Yes</td>\n",
       "      <td>Advertisement</td>\n",
       "      <td>...</td>\n",
       "      <td>Yes</td>\n",
       "      <td>rarely</td>\n",
       "      <td>Yes</td>\n",
       "      <td>Yes</td>\n",
       "      <td>No</td>\n",
       "      <td>Yes</td>\n",
       "      <td>12f97fff-83b4-4532-8819-f51519c8a5b0</td>\n",
       "      <td>2023-01-24 10:08:55.358000+00:00</td>\n",
       "      <td>2023-01-24 10:11:05.674071+00:00</td>\n",
       "      <td>ade74ffc914ca0fa0510d169641e08a3</td>\n",
       "    </tr>\n",
       "    <tr>\n",
       "      <th>4</th>\n",
       "      <td>No</td>\n",
       "      <td>Male</td>\n",
       "      <td>Jazz / Warid</td>\n",
       "      <td>Yes</td>\n",
       "      <td>Pre Paid</td>\n",
       "      <td>800</td>\n",
       "      <td>More than one year</td>\n",
       "      <td>Yes</td>\n",
       "      <td>No</td>\n",
       "      <td>Face book</td>\n",
       "      <td>...</td>\n",
       "      <td>Yes</td>\n",
       "      <td>rarely</td>\n",
       "      <td>Yes</td>\n",
       "      <td>Yes</td>\n",
       "      <td>No</td>\n",
       "      <td>Yes</td>\n",
       "      <td>ebd2c9aa-0add-43e5-93e8-1dcd1bf7b6db</td>\n",
       "      <td>2023-01-24 10:08:55.358000+00:00</td>\n",
       "      <td>2023-01-24 10:11:05.674071+00:00</td>\n",
       "      <td>d10e9cf7fe5bead2ade477e4e5a4218a</td>\n",
       "    </tr>\n",
       "  </tbody>\n",
       "</table>\n",
       "<p>5 rows × 23 columns</p>\n",
       "</div>"
      ],
      "text/plain": [
       "  churn  gender       network available_4g service_type  monthly_usage_rs  \\\n",
       "0    No  Female  Jazz / Warid          Yes     Pre Paid               800   \n",
       "1    No  Female  Jazz / Warid          Yes     Pre Paid               500   \n",
       "2    No    Male  Jazz / Warid          Yes     Pre Paid               500   \n",
       "3    No  Female  Jazz / Warid          Yes     Pre Paid               300   \n",
       "4    No    Male  Jazz / Warid          Yes     Pre Paid               800   \n",
       "\n",
       "   relation_durattion recommend_to_others pleaseed_with_prices  \\\n",
       "0  More than one year                 Yes                  Yes   \n",
       "1  More than one year                  No                   No   \n",
       "2  More than one year                 Yes                   No   \n",
       "3  More than one year                 Yes                  Yes   \n",
       "4  More than one year                 Yes                   No   \n",
       "\n",
       "  source_of_attraction  ... satisfy_with_call_rate rate_of_cust_care_calling  \\\n",
       "0        Advertisement  ...                    Yes                    rarely   \n",
       "1               Others  ...                     No                    rarely   \n",
       "2        Advertisement  ...                     No                    rarely   \n",
       "3        Advertisement  ...                    Yes                    rarely   \n",
       "4            Face book  ...                    Yes                    rarely   \n",
       "\n",
       "  happy_with_intrnet_quality satisfy_with_voice_quality  \\\n",
       "0                        Yes                        Yes   \n",
       "1                         No                        Yes   \n",
       "2                        Yes                         No   \n",
       "3                        Yes                        Yes   \n",
       "4                        Yes                        Yes   \n",
       "\n",
       "  satisfy_with_billing_process satisfy_with_signal_strength  \\\n",
       "0                          Yes                          Yes   \n",
       "1                           No                          Yes   \n",
       "2                          Yes                           No   \n",
       "3                           No                          Yes   \n",
       "4                           No                          Yes   \n",
       "\n",
       "                         _airbyte_ab_id              _airbyte_emitted_at  \\\n",
       "0  26b2c3fd-2048-44d3-ba07-02a0972c3c02 2023-01-24 10:08:55.358000+00:00   \n",
       "1  1386d019-090b-47b1-9791-8d5b4a3fc178 2023-01-24 10:08:55.358000+00:00   \n",
       "2  6af9e452-aefe-427c-bda5-78a34d96d17e 2023-01-24 10:08:55.358000+00:00   \n",
       "3  12f97fff-83b4-4532-8819-f51519c8a5b0 2023-01-24 10:08:55.358000+00:00   \n",
       "4  ebd2c9aa-0add-43e5-93e8-1dcd1bf7b6db 2023-01-24 10:08:55.358000+00:00   \n",
       "\n",
       "            _airbyte_normalized_at           _airbyte_telecom_hashid  \n",
       "0 2023-01-24 10:11:05.674071+00:00  2e58d2285993f670d2f4276c1e3a08c2  \n",
       "1 2023-01-24 10:11:05.674071+00:00  6918f4a6ee2aa7927571061343edb4d2  \n",
       "2 2023-01-24 10:11:05.674071+00:00  29eee146afff8ca4ba55608ee78f7cc3  \n",
       "3 2023-01-24 10:11:05.674071+00:00  ade74ffc914ca0fa0510d169641e08a3  \n",
       "4 2023-01-24 10:11:05.674071+00:00  d10e9cf7fe5bead2ade477e4e5a4218a  \n",
       "\n",
       "[5 rows x 23 columns]"
      ]
     },
     "execution_count": 5,
     "metadata": {},
     "output_type": "execute_result"
    }
   ],
   "source": [
    "telecom.head()"
   ]
  },
  {
   "cell_type": "code",
   "execution_count": 6,
   "id": "a2741997",
   "metadata": {},
   "outputs": [],
   "source": [
    "telecom['gender'] = telecom['gender'].map({'Female':0, 'Male':1}).astype(int)"
   ]
  },
  {
   "cell_type": "code",
   "execution_count": 7,
   "id": "56df2cf3",
   "metadata": {},
   "outputs": [
    {
     "data": {
      "text/plain": [
       "array(['Jazz / Warid', 'Zong', 'Ufone', 'Telenor'], dtype=object)"
      ]
     },
     "execution_count": 7,
     "metadata": {},
     "output_type": "execute_result"
    }
   ],
   "source": [
    "telecom['network'].unique()"
   ]
  },
  {
   "cell_type": "code",
   "execution_count": 8,
   "id": "5efc631c",
   "metadata": {},
   "outputs": [],
   "source": [
    "telecom['network'] = telecom['network'].map({'Jazz / Warid':0, 'Zong':1, 'Ufone':2, 'Telenor':3}).astype(int)"
   ]
  },
  {
   "cell_type": "code",
   "execution_count": 9,
   "id": "cdc4c630",
   "metadata": {},
   "outputs": [],
   "source": [
    "telecom = telecom.replace('No', 0)\n",
    "telecom = telecom.replace('Yes', 1)"
   ]
  },
  {
   "cell_type": "code",
   "execution_count": 10,
   "id": "a79c3430",
   "metadata": {},
   "outputs": [
    {
     "data": {
      "text/html": [
       "<div>\n",
       "<style scoped>\n",
       "    .dataframe tbody tr th:only-of-type {\n",
       "        vertical-align: middle;\n",
       "    }\n",
       "\n",
       "    .dataframe tbody tr th {\n",
       "        vertical-align: top;\n",
       "    }\n",
       "\n",
       "    .dataframe thead th {\n",
       "        text-align: right;\n",
       "    }\n",
       "</style>\n",
       "<table border=\"1\" class=\"dataframe\">\n",
       "  <thead>\n",
       "    <tr style=\"text-align: right;\">\n",
       "      <th></th>\n",
       "      <th>churn</th>\n",
       "      <th>gender</th>\n",
       "      <th>network</th>\n",
       "      <th>available_4g</th>\n",
       "      <th>service_type</th>\n",
       "      <th>monthly_usage_rs</th>\n",
       "      <th>relation_durattion</th>\n",
       "      <th>recommend_to_others</th>\n",
       "      <th>pleaseed_with_prices</th>\n",
       "      <th>source_of_attraction</th>\n",
       "      <th>...</th>\n",
       "      <th>satisfy_with_call_rate</th>\n",
       "      <th>rate_of_cust_care_calling</th>\n",
       "      <th>happy_with_intrnet_quality</th>\n",
       "      <th>satisfy_with_voice_quality</th>\n",
       "      <th>satisfy_with_billing_process</th>\n",
       "      <th>satisfy_with_signal_strength</th>\n",
       "      <th>_airbyte_ab_id</th>\n",
       "      <th>_airbyte_emitted_at</th>\n",
       "      <th>_airbyte_normalized_at</th>\n",
       "      <th>_airbyte_telecom_hashid</th>\n",
       "    </tr>\n",
       "  </thead>\n",
       "  <tbody>\n",
       "    <tr>\n",
       "      <th>0</th>\n",
       "      <td>0</td>\n",
       "      <td>0</td>\n",
       "      <td>0</td>\n",
       "      <td>1</td>\n",
       "      <td>Pre Paid</td>\n",
       "      <td>800</td>\n",
       "      <td>More than one year</td>\n",
       "      <td>1</td>\n",
       "      <td>1</td>\n",
       "      <td>Advertisement</td>\n",
       "      <td>...</td>\n",
       "      <td>1</td>\n",
       "      <td>rarely</td>\n",
       "      <td>1</td>\n",
       "      <td>1</td>\n",
       "      <td>1</td>\n",
       "      <td>1</td>\n",
       "      <td>26b2c3fd-2048-44d3-ba07-02a0972c3c02</td>\n",
       "      <td>2023-01-24 10:08:55.358000+00:00</td>\n",
       "      <td>2023-01-24 10:11:05.674071+00:00</td>\n",
       "      <td>2e58d2285993f670d2f4276c1e3a08c2</td>\n",
       "    </tr>\n",
       "    <tr>\n",
       "      <th>1</th>\n",
       "      <td>0</td>\n",
       "      <td>0</td>\n",
       "      <td>0</td>\n",
       "      <td>1</td>\n",
       "      <td>Pre Paid</td>\n",
       "      <td>500</td>\n",
       "      <td>More than one year</td>\n",
       "      <td>0</td>\n",
       "      <td>0</td>\n",
       "      <td>Others</td>\n",
       "      <td>...</td>\n",
       "      <td>0</td>\n",
       "      <td>rarely</td>\n",
       "      <td>0</td>\n",
       "      <td>1</td>\n",
       "      <td>0</td>\n",
       "      <td>1</td>\n",
       "      <td>1386d019-090b-47b1-9791-8d5b4a3fc178</td>\n",
       "      <td>2023-01-24 10:08:55.358000+00:00</td>\n",
       "      <td>2023-01-24 10:11:05.674071+00:00</td>\n",
       "      <td>6918f4a6ee2aa7927571061343edb4d2</td>\n",
       "    </tr>\n",
       "    <tr>\n",
       "      <th>2</th>\n",
       "      <td>0</td>\n",
       "      <td>1</td>\n",
       "      <td>0</td>\n",
       "      <td>1</td>\n",
       "      <td>Pre Paid</td>\n",
       "      <td>500</td>\n",
       "      <td>More than one year</td>\n",
       "      <td>1</td>\n",
       "      <td>0</td>\n",
       "      <td>Advertisement</td>\n",
       "      <td>...</td>\n",
       "      <td>0</td>\n",
       "      <td>rarely</td>\n",
       "      <td>1</td>\n",
       "      <td>0</td>\n",
       "      <td>1</td>\n",
       "      <td>0</td>\n",
       "      <td>6af9e452-aefe-427c-bda5-78a34d96d17e</td>\n",
       "      <td>2023-01-24 10:08:55.358000+00:00</td>\n",
       "      <td>2023-01-24 10:11:05.674071+00:00</td>\n",
       "      <td>29eee146afff8ca4ba55608ee78f7cc3</td>\n",
       "    </tr>\n",
       "    <tr>\n",
       "      <th>3</th>\n",
       "      <td>0</td>\n",
       "      <td>0</td>\n",
       "      <td>0</td>\n",
       "      <td>1</td>\n",
       "      <td>Pre Paid</td>\n",
       "      <td>300</td>\n",
       "      <td>More than one year</td>\n",
       "      <td>1</td>\n",
       "      <td>1</td>\n",
       "      <td>Advertisement</td>\n",
       "      <td>...</td>\n",
       "      <td>1</td>\n",
       "      <td>rarely</td>\n",
       "      <td>1</td>\n",
       "      <td>1</td>\n",
       "      <td>0</td>\n",
       "      <td>1</td>\n",
       "      <td>12f97fff-83b4-4532-8819-f51519c8a5b0</td>\n",
       "      <td>2023-01-24 10:08:55.358000+00:00</td>\n",
       "      <td>2023-01-24 10:11:05.674071+00:00</td>\n",
       "      <td>ade74ffc914ca0fa0510d169641e08a3</td>\n",
       "    </tr>\n",
       "    <tr>\n",
       "      <th>4</th>\n",
       "      <td>0</td>\n",
       "      <td>1</td>\n",
       "      <td>0</td>\n",
       "      <td>1</td>\n",
       "      <td>Pre Paid</td>\n",
       "      <td>800</td>\n",
       "      <td>More than one year</td>\n",
       "      <td>1</td>\n",
       "      <td>0</td>\n",
       "      <td>Face book</td>\n",
       "      <td>...</td>\n",
       "      <td>1</td>\n",
       "      <td>rarely</td>\n",
       "      <td>1</td>\n",
       "      <td>1</td>\n",
       "      <td>0</td>\n",
       "      <td>1</td>\n",
       "      <td>ebd2c9aa-0add-43e5-93e8-1dcd1bf7b6db</td>\n",
       "      <td>2023-01-24 10:08:55.358000+00:00</td>\n",
       "      <td>2023-01-24 10:11:05.674071+00:00</td>\n",
       "      <td>d10e9cf7fe5bead2ade477e4e5a4218a</td>\n",
       "    </tr>\n",
       "  </tbody>\n",
       "</table>\n",
       "<p>5 rows × 23 columns</p>\n",
       "</div>"
      ],
      "text/plain": [
       "   churn  gender  network  available_4g service_type  monthly_usage_rs  \\\n",
       "0      0       0        0             1     Pre Paid               800   \n",
       "1      0       0        0             1     Pre Paid               500   \n",
       "2      0       1        0             1     Pre Paid               500   \n",
       "3      0       0        0             1     Pre Paid               300   \n",
       "4      0       1        0             1     Pre Paid               800   \n",
       "\n",
       "   relation_durattion  recommend_to_others  pleaseed_with_prices  \\\n",
       "0  More than one year                    1                     1   \n",
       "1  More than one year                    0                     0   \n",
       "2  More than one year                    1                     0   \n",
       "3  More than one year                    1                     1   \n",
       "4  More than one year                    1                     0   \n",
       "\n",
       "  source_of_attraction  ... satisfy_with_call_rate  rate_of_cust_care_calling  \\\n",
       "0        Advertisement  ...                      1                     rarely   \n",
       "1               Others  ...                      0                     rarely   \n",
       "2        Advertisement  ...                      0                     rarely   \n",
       "3        Advertisement  ...                      1                     rarely   \n",
       "4            Face book  ...                      1                     rarely   \n",
       "\n",
       "  happy_with_intrnet_quality  satisfy_with_voice_quality  \\\n",
       "0                          1                           1   \n",
       "1                          0                           1   \n",
       "2                          1                           0   \n",
       "3                          1                           1   \n",
       "4                          1                           1   \n",
       "\n",
       "  satisfy_with_billing_process  satisfy_with_signal_strength  \\\n",
       "0                            1                             1   \n",
       "1                            0                             1   \n",
       "2                            1                             0   \n",
       "3                            0                             1   \n",
       "4                            0                             1   \n",
       "\n",
       "                         _airbyte_ab_id              _airbyte_emitted_at  \\\n",
       "0  26b2c3fd-2048-44d3-ba07-02a0972c3c02 2023-01-24 10:08:55.358000+00:00   \n",
       "1  1386d019-090b-47b1-9791-8d5b4a3fc178 2023-01-24 10:08:55.358000+00:00   \n",
       "2  6af9e452-aefe-427c-bda5-78a34d96d17e 2023-01-24 10:08:55.358000+00:00   \n",
       "3  12f97fff-83b4-4532-8819-f51519c8a5b0 2023-01-24 10:08:55.358000+00:00   \n",
       "4  ebd2c9aa-0add-43e5-93e8-1dcd1bf7b6db 2023-01-24 10:08:55.358000+00:00   \n",
       "\n",
       "            _airbyte_normalized_at           _airbyte_telecom_hashid  \n",
       "0 2023-01-24 10:11:05.674071+00:00  2e58d2285993f670d2f4276c1e3a08c2  \n",
       "1 2023-01-24 10:11:05.674071+00:00  6918f4a6ee2aa7927571061343edb4d2  \n",
       "2 2023-01-24 10:11:05.674071+00:00  29eee146afff8ca4ba55608ee78f7cc3  \n",
       "3 2023-01-24 10:11:05.674071+00:00  ade74ffc914ca0fa0510d169641e08a3  \n",
       "4 2023-01-24 10:11:05.674071+00:00  d10e9cf7fe5bead2ade477e4e5a4218a  \n",
       "\n",
       "[5 rows x 23 columns]"
      ]
     },
     "execution_count": 10,
     "metadata": {},
     "output_type": "execute_result"
    }
   ],
   "source": [
    "telecom.head()"
   ]
  },
  {
   "cell_type": "code",
   "execution_count": 11,
   "id": "b9c79f92",
   "metadata": {},
   "outputs": [
    {
     "name": "stdout",
     "output_type": "stream",
     "text": [
      "<class 'pandas.core.frame.DataFrame'>\n",
      "RangeIndex: 9760 entries, 0 to 9759\n",
      "Data columns (total 23 columns):\n",
      " #   Column                        Non-Null Count  Dtype              \n",
      "---  ------                        --------------  -----              \n",
      " 0   churn                         9760 non-null   int64              \n",
      " 1   gender                        9760 non-null   int32              \n",
      " 2   network                       9760 non-null   int32              \n",
      " 3   available_4g                  9760 non-null   int64              \n",
      " 4   service_type                  9760 non-null   object             \n",
      " 5   monthly_usage_rs              9760 non-null   int64              \n",
      " 6   relation_durattion            9760 non-null   object             \n",
      " 7   recommend_to_others           9760 non-null   int64              \n",
      " 8   pleaseed_with_prices          9760 non-null   int64              \n",
      " 9   source_of_attraction          9760 non-null   object             \n",
      " 10  reascon_of_contact_cc         9760 non-null   object             \n",
      " 11  contact_with_cust_care        9760 non-null   int64              \n",
      " 12  prferred_communication        9760 non-null   object             \n",
      " 13  satisfy_with_call_rate        9760 non-null   int64              \n",
      " 14  rate_of_cust_care_calling     9760 non-null   object             \n",
      " 15  happy_with_intrnet_quality    9760 non-null   int64              \n",
      " 16  satisfy_with_voice_quality    9760 non-null   int64              \n",
      " 17  satisfy_with_billing_process  9760 non-null   int64              \n",
      " 18  satisfy_with_signal_strength  9760 non-null   int64              \n",
      " 19  _airbyte_ab_id                9760 non-null   object             \n",
      " 20  _airbyte_emitted_at           9760 non-null   datetime64[ns, UTC]\n",
      " 21  _airbyte_normalized_at        9760 non-null   datetime64[ns, UTC]\n",
      " 22  _airbyte_telecom_hashid       9760 non-null   object             \n",
      "dtypes: datetime64[ns, UTC](2), int32(2), int64(11), object(8)\n",
      "memory usage: 1.6+ MB\n"
     ]
    }
   ],
   "source": [
    "telecom.info()"
   ]
  },
  {
   "cell_type": "code",
   "execution_count": 12,
   "id": "de783023",
   "metadata": {},
   "outputs": [
    {
     "data": {
      "text/plain": [
       "array(['Pre Paid', 'Post Paid'], dtype=object)"
      ]
     },
     "execution_count": 12,
     "metadata": {},
     "output_type": "execute_result"
    }
   ],
   "source": [
    "telecom['service_type'].unique()"
   ]
  },
  {
   "cell_type": "code",
   "execution_count": 13,
   "id": "62cb4a29",
   "metadata": {},
   "outputs": [],
   "source": [
    "telecom['service_type'] = telecom['service_type'].map({'Pre Paid':0, 'Post Paid':1}).astype(int)"
   ]
  },
  {
   "cell_type": "code",
   "execution_count": 14,
   "id": "4de8098c",
   "metadata": {},
   "outputs": [
    {
     "data": {
      "text/plain": [
       "array(['More than one year', '7 12 Months', '2 6 Months',\n",
       "       'Less than one Month'], dtype=object)"
      ]
     },
     "execution_count": 14,
     "metadata": {},
     "output_type": "execute_result"
    }
   ],
   "source": [
    "telecom['relation_durattion'].unique()"
   ]
  },
  {
   "cell_type": "code",
   "execution_count": 15,
   "id": "9d0f8fa6",
   "metadata": {},
   "outputs": [],
   "source": [
    "telecom['relation_durattion'] = telecom['relation_durattion'].map(\n",
    "    {'More than one year':0, '7 12 Months':1, '2 6 Months':2, 'Less than one Month':3}).astype(int)"
   ]
  },
  {
   "cell_type": "code",
   "execution_count": 16,
   "id": "957c5afb",
   "metadata": {},
   "outputs": [
    {
     "data": {
      "text/plain": [
       "array(['Advertisement', 'Others', 'Face book', 'Newspaper'], dtype=object)"
      ]
     },
     "execution_count": 16,
     "metadata": {},
     "output_type": "execute_result"
    }
   ],
   "source": [
    "telecom['source_of_attraction'].unique()"
   ]
  },
  {
   "cell_type": "code",
   "execution_count": 17,
   "id": "2b3fb76d",
   "metadata": {},
   "outputs": [
    {
     "data": {
      "text/plain": [
       "array(['rarely', 'Once in a year', 'Once in a Month', 'Once in a Week'],\n",
       "      dtype=object)"
      ]
     },
     "execution_count": 17,
     "metadata": {},
     "output_type": "execute_result"
    }
   ],
   "source": [
    "telecom['rate_of_cust_care_calling'].unique()"
   ]
  },
  {
   "cell_type": "code",
   "execution_count": 18,
   "id": "0ff7db0f",
   "metadata": {},
   "outputs": [],
   "source": [
    "telecom['source_of_attraction'] = telecom['source_of_attraction'].map(\n",
    "    {'Advertisement':0, 'Others':1, 'Face book':2, 'Newspaper':3}).astype(int)"
   ]
  },
  {
   "cell_type": "code",
   "execution_count": 19,
   "id": "c86ccaeb",
   "metadata": {},
   "outputs": [],
   "source": [
    "telecom['rate_of_cust_care_calling'] = telecom['rate_of_cust_care_calling'].map(\n",
    "    {'rarely':0, 'Once in a year':1, 'Once in a Month':2, 'Once in a Week':3}).astype(int)"
   ]
  },
  {
   "cell_type": "code",
   "execution_count": 20,
   "id": "3f6a86f3",
   "metadata": {},
   "outputs": [
    {
     "data": {
      "text/html": [
       "<div>\n",
       "<style scoped>\n",
       "    .dataframe tbody tr th:only-of-type {\n",
       "        vertical-align: middle;\n",
       "    }\n",
       "\n",
       "    .dataframe tbody tr th {\n",
       "        vertical-align: top;\n",
       "    }\n",
       "\n",
       "    .dataframe thead th {\n",
       "        text-align: right;\n",
       "    }\n",
       "</style>\n",
       "<table border=\"1\" class=\"dataframe\">\n",
       "  <thead>\n",
       "    <tr style=\"text-align: right;\">\n",
       "      <th></th>\n",
       "      <th>churn</th>\n",
       "      <th>gender</th>\n",
       "      <th>network</th>\n",
       "      <th>available_4g</th>\n",
       "      <th>service_type</th>\n",
       "      <th>monthly_usage_rs</th>\n",
       "      <th>relation_durattion</th>\n",
       "      <th>recommend_to_others</th>\n",
       "      <th>pleaseed_with_prices</th>\n",
       "      <th>source_of_attraction</th>\n",
       "      <th>reascon_of_contact_cc</th>\n",
       "      <th>contact_with_cust_care</th>\n",
       "      <th>prferred_communication</th>\n",
       "      <th>satisfy_with_call_rate</th>\n",
       "      <th>rate_of_cust_care_calling</th>\n",
       "      <th>happy_with_intrnet_quality</th>\n",
       "      <th>satisfy_with_voice_quality</th>\n",
       "      <th>satisfy_with_billing_process</th>\n",
       "      <th>satisfy_with_signal_strength</th>\n",
       "    </tr>\n",
       "  </thead>\n",
       "  <tbody>\n",
       "    <tr>\n",
       "      <th>0</th>\n",
       "      <td>0</td>\n",
       "      <td>0</td>\n",
       "      <td>0</td>\n",
       "      <td>1</td>\n",
       "      <td>0</td>\n",
       "      <td>800</td>\n",
       "      <td>0</td>\n",
       "      <td>1</td>\n",
       "      <td>1</td>\n",
       "      <td>0</td>\n",
       "      <td>Complaints</td>\n",
       "      <td>0</td>\n",
       "      <td>messages</td>\n",
       "      <td>1</td>\n",
       "      <td>0</td>\n",
       "      <td>1</td>\n",
       "      <td>1</td>\n",
       "      <td>1</td>\n",
       "      <td>1</td>\n",
       "    </tr>\n",
       "    <tr>\n",
       "      <th>1</th>\n",
       "      <td>0</td>\n",
       "      <td>0</td>\n",
       "      <td>0</td>\n",
       "      <td>1</td>\n",
       "      <td>0</td>\n",
       "      <td>500</td>\n",
       "      <td>0</td>\n",
       "      <td>0</td>\n",
       "      <td>0</td>\n",
       "      <td>1</td>\n",
       "      <td>Complaints</td>\n",
       "      <td>1</td>\n",
       "      <td>Audio calling</td>\n",
       "      <td>0</td>\n",
       "      <td>0</td>\n",
       "      <td>0</td>\n",
       "      <td>1</td>\n",
       "      <td>0</td>\n",
       "      <td>1</td>\n",
       "    </tr>\n",
       "    <tr>\n",
       "      <th>2</th>\n",
       "      <td>0</td>\n",
       "      <td>1</td>\n",
       "      <td>0</td>\n",
       "      <td>1</td>\n",
       "      <td>0</td>\n",
       "      <td>500</td>\n",
       "      <td>0</td>\n",
       "      <td>1</td>\n",
       "      <td>0</td>\n",
       "      <td>0</td>\n",
       "      <td>Complaints</td>\n",
       "      <td>1</td>\n",
       "      <td>Audio calling</td>\n",
       "      <td>0</td>\n",
       "      <td>0</td>\n",
       "      <td>1</td>\n",
       "      <td>0</td>\n",
       "      <td>1</td>\n",
       "      <td>0</td>\n",
       "    </tr>\n",
       "    <tr>\n",
       "      <th>3</th>\n",
       "      <td>0</td>\n",
       "      <td>0</td>\n",
       "      <td>0</td>\n",
       "      <td>1</td>\n",
       "      <td>0</td>\n",
       "      <td>300</td>\n",
       "      <td>0</td>\n",
       "      <td>1</td>\n",
       "      <td>1</td>\n",
       "      <td>0</td>\n",
       "      <td>Information regarding new schemes</td>\n",
       "      <td>0</td>\n",
       "      <td>messages</td>\n",
       "      <td>1</td>\n",
       "      <td>0</td>\n",
       "      <td>1</td>\n",
       "      <td>1</td>\n",
       "      <td>0</td>\n",
       "      <td>1</td>\n",
       "    </tr>\n",
       "    <tr>\n",
       "      <th>4</th>\n",
       "      <td>0</td>\n",
       "      <td>1</td>\n",
       "      <td>0</td>\n",
       "      <td>1</td>\n",
       "      <td>0</td>\n",
       "      <td>800</td>\n",
       "      <td>0</td>\n",
       "      <td>1</td>\n",
       "      <td>0</td>\n",
       "      <td>2</td>\n",
       "      <td>Complaints</td>\n",
       "      <td>1</td>\n",
       "      <td>Audio calling</td>\n",
       "      <td>1</td>\n",
       "      <td>0</td>\n",
       "      <td>1</td>\n",
       "      <td>1</td>\n",
       "      <td>0</td>\n",
       "      <td>1</td>\n",
       "    </tr>\n",
       "  </tbody>\n",
       "</table>\n",
       "</div>"
      ],
      "text/plain": [
       "   churn  gender  network  available_4g  service_type  monthly_usage_rs  \\\n",
       "0      0       0        0             1             0               800   \n",
       "1      0       0        0             1             0               500   \n",
       "2      0       1        0             1             0               500   \n",
       "3      0       0        0             1             0               300   \n",
       "4      0       1        0             1             0               800   \n",
       "\n",
       "   relation_durattion  recommend_to_others  pleaseed_with_prices  \\\n",
       "0                   0                    1                     1   \n",
       "1                   0                    0                     0   \n",
       "2                   0                    1                     0   \n",
       "3                   0                    1                     1   \n",
       "4                   0                    1                     0   \n",
       "\n",
       "   source_of_attraction              reascon_of_contact_cc  \\\n",
       "0                     0                         Complaints   \n",
       "1                     1                         Complaints   \n",
       "2                     0                         Complaints   \n",
       "3                     0  Information regarding new schemes   \n",
       "4                     2                         Complaints   \n",
       "\n",
       "   contact_with_cust_care prferred_communication  satisfy_with_call_rate  \\\n",
       "0                       0               messages                       1   \n",
       "1                       1          Audio calling                       0   \n",
       "2                       1          Audio calling                       0   \n",
       "3                       0               messages                       1   \n",
       "4                       1          Audio calling                       1   \n",
       "\n",
       "   rate_of_cust_care_calling  happy_with_intrnet_quality  \\\n",
       "0                          0                           1   \n",
       "1                          0                           0   \n",
       "2                          0                           1   \n",
       "3                          0                           1   \n",
       "4                          0                           1   \n",
       "\n",
       "   satisfy_with_voice_quality  satisfy_with_billing_process  \\\n",
       "0                           1                             1   \n",
       "1                           1                             0   \n",
       "2                           0                             1   \n",
       "3                           1                             0   \n",
       "4                           1                             0   \n",
       "\n",
       "   satisfy_with_signal_strength  \n",
       "0                             1  \n",
       "1                             1  \n",
       "2                             0  \n",
       "3                             1  \n",
       "4                             1  "
      ]
     },
     "execution_count": 20,
     "metadata": {},
     "output_type": "execute_result"
    }
   ],
   "source": [
    "# drop irrelevant data\n",
    "telecom.drop(list(telecom.filter(regex = '_airbyte_')), axis = 1, inplace = True)\n",
    "telecom.head()"
   ]
  },
  {
   "cell_type": "code",
   "execution_count": 21,
   "id": "1a77b030",
   "metadata": {},
   "outputs": [
    {
     "data": {
      "text/plain": [
       "array(['Complaints', 'Information regarding new schemes', 'Other Queries',\n",
       "       'Value added services'], dtype=object)"
      ]
     },
     "execution_count": 21,
     "metadata": {},
     "output_type": "execute_result"
    }
   ],
   "source": [
    "telecom['reascon_of_contact_cc'].unique()"
   ]
  },
  {
   "cell_type": "code",
   "execution_count": 22,
   "id": "7aedbd06",
   "metadata": {},
   "outputs": [
    {
     "data": {
      "text/plain": [
       "array(['messages', 'Audio calling', 'Video Calling'], dtype=object)"
      ]
     },
     "execution_count": 22,
     "metadata": {},
     "output_type": "execute_result"
    }
   ],
   "source": [
    "telecom['prferred_communication'].unique()"
   ]
  },
  {
   "cell_type": "code",
   "execution_count": 23,
   "id": "9c6e6090",
   "metadata": {},
   "outputs": [],
   "source": [
    "telecom['reascon_of_contact_cc'] = telecom['reascon_of_contact_cc'].map(\n",
    "    {'Complaints':0, 'Information regarding new schemes':1, 'Other Queries':2, 'Value added services':3}).astype(int)"
   ]
  },
  {
   "cell_type": "code",
   "execution_count": 24,
   "id": "638d0953",
   "metadata": {},
   "outputs": [],
   "source": [
    "telecom['prferred_communication'] = telecom['prferred_communication'].map(\n",
    "    {'messages':0, 'Audio calling':1, 'Video Calling':2}).astype(int)"
   ]
  },
  {
   "cell_type": "code",
   "execution_count": 25,
   "id": "8f0df372",
   "metadata": {},
   "outputs": [
    {
     "data": {
      "text/plain": [
       "churn                           0\n",
       "gender                          0\n",
       "network                         0\n",
       "available_4g                    0\n",
       "service_type                    0\n",
       "monthly_usage_rs                0\n",
       "relation_durattion              0\n",
       "recommend_to_others             0\n",
       "pleaseed_with_prices            0\n",
       "source_of_attraction            0\n",
       "reascon_of_contact_cc           0\n",
       "contact_with_cust_care          0\n",
       "prferred_communication          0\n",
       "satisfy_with_call_rate          0\n",
       "rate_of_cust_care_calling       0\n",
       "happy_with_intrnet_quality      0\n",
       "satisfy_with_voice_quality      0\n",
       "satisfy_with_billing_process    0\n",
       "satisfy_with_signal_strength    0\n",
       "dtype: int64"
      ]
     },
     "execution_count": 25,
     "metadata": {},
     "output_type": "execute_result"
    }
   ],
   "source": [
    "telecom.isnull().sum()"
   ]
  },
  {
   "cell_type": "code",
   "execution_count": 26,
   "id": "2c5d5aa1",
   "metadata": {},
   "outputs": [],
   "source": [
    "telecom = telecom.dropna()"
   ]
  },
  {
   "cell_type": "code",
   "execution_count": 27,
   "id": "208f1726",
   "metadata": {},
   "outputs": [
    {
     "data": {
      "text/plain": [
       "churn                           0\n",
       "gender                          0\n",
       "network                         0\n",
       "available_4g                    0\n",
       "service_type                    0\n",
       "monthly_usage_rs                0\n",
       "relation_durattion              0\n",
       "recommend_to_others             0\n",
       "pleaseed_with_prices            0\n",
       "source_of_attraction            0\n",
       "reascon_of_contact_cc           0\n",
       "contact_with_cust_care          0\n",
       "prferred_communication          0\n",
       "satisfy_with_call_rate          0\n",
       "rate_of_cust_care_calling       0\n",
       "happy_with_intrnet_quality      0\n",
       "satisfy_with_voice_quality      0\n",
       "satisfy_with_billing_process    0\n",
       "satisfy_with_signal_strength    0\n",
       "dtype: int64"
      ]
     },
     "execution_count": 27,
     "metadata": {},
     "output_type": "execute_result"
    }
   ],
   "source": [
    "telecom.isnull().sum()"
   ]
  },
  {
   "cell_type": "code",
   "execution_count": 28,
   "id": "660e3824",
   "metadata": {},
   "outputs": [],
   "source": [
    "xtrain2,xtest2,ytrain2,ytest2 = train_test_split(telecom.drop(\"churn\", axis = 1),telecom[\"churn\"], test_size = 0.2,\n",
    "                                      random_state = 404)"
   ]
  },
  {
   "cell_type": "code",
   "execution_count": 29,
   "id": "9c0be512",
   "metadata": {},
   "outputs": [],
   "source": [
    "rf = RandomForestClassifier(random_state = 404)\n",
    "\n",
    "param_grid = { \n",
    "    'n_estimators': [10,20,30],\n",
    "    'max_features': ['auto', 'sqrt', 'log2'],\n",
    "    'max_depth' : [4,5,6,7,8],\n",
    "    'criterion' :['gini', 'entropy']\n",
    "}"
   ]
  },
  {
   "cell_type": "code",
   "execution_count": 30,
   "id": "01b35e54",
   "metadata": {},
   "outputs": [
    {
     "data": {
      "text/plain": [
       "GridSearchCV(cv=5, estimator=RandomForestClassifier(random_state=404),\n",
       "             param_grid={'criterion': ['gini', 'entropy'],\n",
       "                         'max_depth': [4, 5, 6, 7, 8],\n",
       "                         'max_features': ['auto', 'sqrt', 'log2'],\n",
       "                         'n_estimators': [10, 20, 30]})"
      ]
     },
     "execution_count": 30,
     "metadata": {},
     "output_type": "execute_result"
    }
   ],
   "source": [
    "CV_rfc = GridSearchCV(estimator=rf, param_grid=param_grid, cv= 5)\n",
    "CV_rfc.fit(xtrain2,ytrain2)"
   ]
  },
  {
   "cell_type": "code",
   "execution_count": 31,
   "id": "78876c63",
   "metadata": {},
   "outputs": [
    {
     "data": {
      "text/plain": [
       "{'criterion': 'gini',\n",
       " 'max_depth': 8,\n",
       " 'max_features': 'auto',\n",
       " 'n_estimators': 30}"
      ]
     },
     "execution_count": 31,
     "metadata": {},
     "output_type": "execute_result"
    }
   ],
   "source": [
    "CV_rfc.best_params_"
   ]
  },
  {
   "cell_type": "code",
   "execution_count": 32,
   "id": "b283d93e",
   "metadata": {},
   "outputs": [
    {
     "data": {
      "text/plain": [
       "RandomForestClassifier(max_depth=8, n_estimators=30, random_state=404)"
      ]
     },
     "execution_count": 32,
     "metadata": {},
     "output_type": "execute_result"
    }
   ],
   "source": [
    "#change here\n",
    "rfm = RandomForestClassifier(criterion = \"gini\", max_depth = 8,\n",
    "                             max_features = \"auto\", n_estimators = 30,\n",
    "                             random_state = 404)\n",
    "\n",
    "rfm.fit(xtrain2,ytrain2)"
   ]
  },
  {
   "cell_type": "code",
   "execution_count": 33,
   "id": "3386d472",
   "metadata": {},
   "outputs": [],
   "source": [
    "y_train_preds2 = rfm.predict(xtrain2)\n",
    "y_test_preds2 = rfm.predict(xtest2)"
   ]
  },
  {
   "cell_type": "code",
   "execution_count": 34,
   "id": "70a8f47e",
   "metadata": {},
   "outputs": [
    {
     "name": "stdout",
     "output_type": "stream",
     "text": [
      "              precision    recall  f1-score   support\n",
      "\n",
      "           0       0.99      1.00      1.00      1582\n",
      "           1       1.00      0.97      0.98       370\n",
      "\n",
      "    accuracy                           0.99      1952\n",
      "   macro avg       1.00      0.99      0.99      1952\n",
      "weighted avg       0.99      0.99      0.99      1952\n",
      "\n"
     ]
    }
   ],
   "source": [
    "print(classification_report(ytest2, y_test_preds2))"
   ]
  },
  {
   "cell_type": "code",
   "execution_count": 35,
   "id": "1912e528",
   "metadata": {},
   "outputs": [
    {
     "data": {
      "image/png": "[encoded data removed]",
      "text/plain": [
       "<Figure size 1152x576 with 2 Axes>"
      ]
     },
     "metadata": {
      "needs_background": "light"
     },
     "output_type": "display_data"
    }
   ],
   "source": [
    "cf_matrix = confusion_matrix(ytest2, y_test_preds2)\n",
    "\n",
    "fig, ax = plt.subplots(figsize = (16,8))\n",
    "\n",
    "sns.heatmap(cf_matrix, annot=True, cmap='Blues', fmt='g', ax=ax)\n",
    "\n",
    "ax.set_title('Confusion Matrix for predicting churn');\n",
    "ax.set_xlabel('\\nPredicted Values')\n",
    "ax.set_ylabel('Actual Values ');\n",
    "\n",
    "## Ticket labels - List must be in alphabetical order\n",
    "ax.xaxis.set_ticklabels(['False','True'])\n",
    "ax.yaxis.set_ticklabels(['False','True'])\n",
    "\n",
    "## Display the visualization of the Confusion Matrix.\n",
    "plt.show()"
   ]
  },
  {
   "cell_type": "code",
   "execution_count": 36,
   "id": "624e1c8f",
   "metadata": {},
   "outputs": [
    {
     "data": {
      "text/html": [
       "<div>\n",
       "<style scoped>\n",
       "    .dataframe tbody tr th:only-of-type {\n",
       "        vertical-align: middle;\n",
       "    }\n",
       "\n",
       "    .dataframe tbody tr th {\n",
       "        vertical-align: top;\n",
       "    }\n",
       "\n",
       "    .dataframe thead th {\n",
       "        text-align: right;\n",
       "    }\n",
       "</style>\n",
       "<table border=\"1\" class=\"dataframe\">\n",
       "  <thead>\n",
       "    <tr style=\"text-align: right;\">\n",
       "      <th></th>\n",
       "      <th>feature</th>\n",
       "      <th>importance</th>\n",
       "    </tr>\n",
       "  </thead>\n",
       "  <tbody>\n",
       "    <tr>\n",
       "      <th>14</th>\n",
       "      <td>happy_with_intrnet_quality</td>\n",
       "      <td>0.154924</td>\n",
       "    </tr>\n",
       "    <tr>\n",
       "      <th>17</th>\n",
       "      <td>satisfy_with_signal_strength</td>\n",
       "      <td>0.131769</td>\n",
       "    </tr>\n",
       "    <tr>\n",
       "      <th>9</th>\n",
       "      <td>reascon_of_contact_cc</td>\n",
       "      <td>0.101125</td>\n",
       "    </tr>\n",
       "    <tr>\n",
       "      <th>15</th>\n",
       "      <td>satisfy_with_voice_quality</td>\n",
       "      <td>0.091696</td>\n",
       "    </tr>\n",
       "    <tr>\n",
       "      <th>4</th>\n",
       "      <td>monthly_usage_rs</td>\n",
       "      <td>0.061999</td>\n",
       "    </tr>\n",
       "    <tr>\n",
       "      <th>11</th>\n",
       "      <td>prferred_communication</td>\n",
       "      <td>0.057970</td>\n",
       "    </tr>\n",
       "    <tr>\n",
       "      <th>13</th>\n",
       "      <td>rate_of_cust_care_calling</td>\n",
       "      <td>0.055024</td>\n",
       "    </tr>\n",
       "    <tr>\n",
       "      <th>0</th>\n",
       "      <td>gender</td>\n",
       "      <td>0.046998</td>\n",
       "    </tr>\n",
       "    <tr>\n",
       "      <th>6</th>\n",
       "      <td>recommend_to_others</td>\n",
       "      <td>0.043833</td>\n",
       "    </tr>\n",
       "    <tr>\n",
       "      <th>12</th>\n",
       "      <td>satisfy_with_call_rate</td>\n",
       "      <td>0.041513</td>\n",
       "    </tr>\n",
       "    <tr>\n",
       "      <th>1</th>\n",
       "      <td>network</td>\n",
       "      <td>0.035865</td>\n",
       "    </tr>\n",
       "    <tr>\n",
       "      <th>8</th>\n",
       "      <td>source_of_attraction</td>\n",
       "      <td>0.033911</td>\n",
       "    </tr>\n",
       "    <tr>\n",
       "      <th>7</th>\n",
       "      <td>pleaseed_with_prices</td>\n",
       "      <td>0.033160</td>\n",
       "    </tr>\n",
       "    <tr>\n",
       "      <th>10</th>\n",
       "      <td>contact_with_cust_care</td>\n",
       "      <td>0.027922</td>\n",
       "    </tr>\n",
       "    <tr>\n",
       "      <th>5</th>\n",
       "      <td>relation_durattion</td>\n",
       "      <td>0.025302</td>\n",
       "    </tr>\n",
       "    <tr>\n",
       "      <th>2</th>\n",
       "      <td>available_4g</td>\n",
       "      <td>0.023104</td>\n",
       "    </tr>\n",
       "    <tr>\n",
       "      <th>3</th>\n",
       "      <td>service_type</td>\n",
       "      <td>0.018613</td>\n",
       "    </tr>\n",
       "    <tr>\n",
       "      <th>16</th>\n",
       "      <td>satisfy_with_billing_process</td>\n",
       "      <td>0.015272</td>\n",
       "    </tr>\n",
       "  </tbody>\n",
       "</table>\n",
       "</div>"
      ],
      "text/plain": [
       "                         feature  importance\n",
       "14    happy_with_intrnet_quality    0.154924\n",
       "17  satisfy_with_signal_strength    0.131769\n",
       "9          reascon_of_contact_cc    0.101125\n",
       "15    satisfy_with_voice_quality    0.091696\n",
       "4               monthly_usage_rs    0.061999\n",
       "11        prferred_communication    0.057970\n",
       "13     rate_of_cust_care_calling    0.055024\n",
       "0                         gender    0.046998\n",
       "6            recommend_to_others    0.043833\n",
       "12        satisfy_with_call_rate    0.041513\n",
       "1                        network    0.035865\n",
       "8           source_of_attraction    0.033911\n",
       "7           pleaseed_with_prices    0.033160\n",
       "10        contact_with_cust_care    0.027922\n",
       "5             relation_durattion    0.025302\n",
       "2                   available_4g    0.023104\n",
       "3                   service_type    0.018613\n",
       "16  satisfy_with_billing_process    0.015272"
      ]
     },
     "execution_count": 36,
     "metadata": {},
     "output_type": "execute_result"
    }
   ],
   "source": [
    "# Obtain the feature importances\n",
    "importances = rfm.feature_importances_\n",
    "\n",
    "# Print the importances\n",
    "feature_importance = pd.DataFrame(xtrain2.columns, columns=[\"feature\"])\n",
    "feature_importance[\"importance\"] = importances\n",
    "feature_importance.sort_values(\"importance\", ascending=False)"
   ]
  },
  {
   "cell_type": "code",
   "execution_count": null,
   "id": "8fc8b53c",
   "metadata": {},
   "outputs": [],
   "source": []
  }
 ],
 "metadata": {
  "kernelspec": {
   "display_name": "Python 3 (ipykernel)",
   "language": "python",
   "name": "python3"
  },
  "language_info": {
   "codemirror_mode": {
    "name": "ipython",
    "version": 3
   },
   "file_extension": ".py",
   "mimetype": "text/x-python",
   "name": "python",
   "nbconvert_exporter": "python",
   "pygments_lexer": "ipython3",
   "version": "3.9.7"
  }
 },
 "nbformat": 4,
 "nbformat_minor": 5
}
